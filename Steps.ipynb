{
 "cells": [
  {
   "cell_type": "markdown",
   "id": "71ffe87f",
   "metadata": {},
   "source": [
    "### 1. Use fastext after training to find similar and opposite words"
   ]
  },
  {
   "cell_type": "code",
   "execution_count": 117,
   "id": "7f786a3c",
   "metadata": {},
   "outputs": [],
   "source": [
    "from gensim.models import FastText\n",
    "\n",
    "model = FastText.load(\"fasttext.model\")"
   ]
  },
  {
   "cell_type": "code",
   "execution_count": 118,
   "id": "1a589fc4",
   "metadata": {},
   "outputs": [],
   "source": [
    "def print_similar_opposite_words(input_word):\n",
    "    # 10 Most similar words\n",
    "    print(f\"Similar words to '{input_word}':\")\n",
    "    for word, score in model.wv.most_similar(input_word, topn=10):\n",
    "        print(f\"{word}: {score:.4f}\")\n",
    "\n",
    "\n",
    "    # 10 most opposite words   \n",
    "    vocab = list(model.wv.index_to_key)\n",
    "\n",
    "    sims = [(word, model.wv.similarity(input_word, word)) for word in vocab if word != input_word]\n",
    "\n",
    "    opposites = sorted(sims, key=lambda x: x[1])[:10]\n",
    "\n",
    "    print(f\"\\nWords least similar to '{input_word}':\")\n",
    "    for word, score in opposites:\n",
    "        print(f\"{word}: {score:.4f}\")"
   ]
  },
  {
   "cell_type": "code",
   "execution_count": 119,
   "id": "066c786a",
   "metadata": {},
   "outputs": [
    {
     "name": "stdout",
     "output_type": "stream",
     "text": [
      "Similar words to 'hard':\n",
      "harder: 0.6709\n",
      "hardee: 0.6031\n",
      "diehard: 0.6010\n",
      "hardy: 0.5983\n",
      "hardees: 0.5923\n",
      "hardback: 0.5915\n",
      "gerhard: 0.5586\n",
      "hards: 0.5558\n",
      "hardened: 0.5438\n",
      "harden: 0.5290\n",
      "\n",
      "Words least similar to 'hard':\n",
      "et: -0.0371\n",
      "vie: -0.0276\n",
      "tour: -0.0221\n",
      "opa: -0.0101\n",
      "ni: -0.0099\n",
      "park: -0.0076\n",
      "series: -0.0038\n",
      "court: 0.0009\n",
      "kaffe: 0.0036\n",
      "vi: 0.0069\n"
     ]
    }
   ],
   "source": [
    "print_similar_opposite_words('hard')"
   ]
  },
  {
   "cell_type": "code",
   "execution_count": 120,
   "id": "b9c8973f",
   "metadata": {},
   "outputs": [
    {
     "name": "stdout",
     "output_type": "stream",
     "text": [
      "Similar words to 'computer':\n",
      "compute: 0.9480\n",
      "computerized: 0.8861\n",
      "computing: 0.8002\n",
      "compusa: 0.7481\n",
      "compulsory: 0.7211\n",
      "smartphone: 0.6144\n",
      "smartphones: 0.6142\n",
      "laptop: 0.5995\n",
      "macbook: 0.5841\n",
      "ipads: 0.5825\n",
      "\n",
      "Words least similar to 'computer':\n",
      "sau: -0.0832\n",
      "louisian: -0.0488\n",
      "carolina: -0.0485\n",
      "lua: -0.0447\n",
      "mais: -0.0437\n",
      "louisiana: -0.0412\n",
      "oli: -0.0382\n",
      "lau: -0.0363\n",
      "trini: -0.0308\n",
      "dinic: -0.0303\n"
     ]
    }
   ],
   "source": [
    "print_similar_opposite_words('computer')"
   ]
  },
  {
   "cell_type": "code",
   "execution_count": 121,
   "id": "a17792b2",
   "metadata": {},
   "outputs": [
    {
     "name": "stdout",
     "output_type": "stream",
     "text": [
      "Similar words to 'woman':\n",
      "saleswoman: 0.6918\n",
      "lady: 0.6102\n",
      "men: 0.5889\n",
      "womens: 0.5608\n",
      "gentleman: 0.5163\n",
      "ottoman: 0.5114\n",
      "cattleman: 0.4880\n",
      "lipman: 0.4771\n",
      "girl: 0.4721\n",
      "bauman: 0.4705\n",
      "\n",
      "Words least similar to 'woman':\n",
      "ono: -0.0269\n",
      "ap: -0.0253\n",
      "no: -0.0210\n",
      "re: -0.0071\n",
      "java: -0.0067\n",
      "surf: -0.0066\n",
      "ao: -0.0036\n",
      "noms: -0.0033\n",
      "pana: -0.0019\n",
      "mahi: -0.0013\n"
     ]
    }
   ],
   "source": [
    "print_similar_opposite_words('woman')"
   ]
  },
  {
   "cell_type": "markdown",
   "id": "f94f4019",
   "metadata": {},
   "source": [
    "### 2. Test pretrained model"
   ]
  },
  {
   "cell_type": "code",
   "execution_count": null,
   "id": "a52af4f5",
   "metadata": {},
   "outputs": [],
   "source": [
    "import fasttext\n",
    "\n",
    "def load_pretrained_fasttext():\n",
    "    model = fasttext.load_model(\"cc.en.300.bin\")\n",
    "    return model\n",
    "\n",
    "def get_similar_words(model, word, n=10):\n",
    "    similar_words = model.get_nearest_neighbors(word, k=n)\n",
    "    return similar_words\n",
    "\n",
    "def get_opposite_words(model, word, n=10, search_k=10000):\n",
    "    word_vector = model.get_word_vector(word)\n",
    "\n",
    "    vocabular_sample = model.get_words(on_unicode_error='ignore')[:search_k]\n",
    "    word_vectors = [model.get_word_vector(w) for w in vocabular_sample]\n",
    "    \n",
    "    import numpy as np\n",
    "    from scipy.spatial.distance import cosine\n",
    "    \n",
    "    distances = [(vocabular_sample[i], cosine(word_vector, wv)) \n",
    "                 for i, wv in enumerate(word_vectors)]\n",
    "\n",
    "    opposite_words = sorted(distances, key=lambda x: x[1], reverse=True)[:n]\n",
    "    return opposite_words\n",
    "\n",
    "def analyze_word(word):\n",
    "    model = load_pretrained_fasttext()\n",
    "    \n",
    "    print(f\"\\nAnalyzing word: '{word}'\")\n",
    "    print(\"\\n10 most similar words:\")\n",
    "    similar = get_similar_words(model, word)\n",
    "    for i, (similarity, similar_word) in enumerate(similar, 1):\n",
    "        print(f\"{i}. {similar_word} (similarity: {similarity})\")\n",
    "    \n",
    "    print(\"\\n10 most opposite words:\")\n",
    "    opposites = get_opposite_words(model, word)\n",
    "    for i, (opposite_word, distance) in enumerate(opposites, 1):\n",
    "        print(f\"{i}. {opposite_word} (distance: {distance})\")\n",
    "    \n",
    "    return model"
   ]
  },
  {
   "cell_type": "code",
   "execution_count": 7,
   "id": "7bb39d97",
   "metadata": {},
   "outputs": [
    {
     "name": "stdout",
     "output_type": "stream",
     "text": [
      "\n",
      "Analyzing word: 'hard'\n",
      "\n",
      "10 most similar words:\n",
      "1. harder (similarity: 0.674920916557312)\n",
      "2. tough (similarity: 0.6622265577316284)\n",
      "3. difficult (similarity: 0.6313798427581787)\n",
      "4. Hard (similarity: 0.6303834915161133)\n",
      "5. ahrd (similarity: 0.6172201633453369)\n",
      "6. hard.It (similarity: 0.6048954725265503)\n",
      "7. hard- (similarity: 0.596278727054596)\n",
      "8. HARD (similarity: 0.5833104848861694)\n",
      "9. hardest (similarity: 0.5808660984039307)\n",
      "10. hard.Now (similarity: 0.5805425643920898)\n",
      "\n",
      "10 most opposite words:\n",
      "1. contribs (distance: 1.1475075579484346)\n",
      "2. ‎ (distance: 1.1277520064021562)\n",
      "3. Lake (distance: 1.126982154931729)\n",
      "4. Mobile (distance: 1.1131624006276788)\n",
      "5. 1917 (distance: 1.1112886911259348)\n",
      "6. Events (distance: 1.1094323899945187)\n",
      "7. Theatre (distance: 1.1087379045420587)\n",
      "8. Thread (distance: 1.1053014727028372)\n",
      "9. Generation (distance: 1.1051222621907733)\n",
      "10. Gifts (distance: 1.104175079514259)\n"
     ]
    }
   ],
   "source": [
    "model = analyze_word(\"hard\")"
   ]
  },
  {
   "cell_type": "code",
   "execution_count": 8,
   "id": "7ed4104f",
   "metadata": {},
   "outputs": [
    {
     "name": "stdout",
     "output_type": "stream",
     "text": [
      "\n",
      "Analyzing word: 'computer'\n",
      "\n",
      "10 most similar words:\n",
      "1. computers (similarity: 0.7748078107833862)\n",
      "2. comptuer (similarity: 0.7278218865394592)\n",
      "3. compuer (similarity: 0.7249574661254883)\n",
      "4. comupter (similarity: 0.6960818767547607)\n",
      "5. comuter (similarity: 0.691444456577301)\n",
      "6. non-computer (similarity: 0.6854090094566345)\n",
      "7. computer.But (similarity: 0.6702727675437927)\n",
      "8. laptop (similarity: 0.6590123176574707)\n",
      "9. puter (similarity: 0.658584475517273)\n",
      "10. computor (similarity: 0.65807044506073)\n",
      "\n",
      "10 most opposite words:\n",
      "1. Albert (distance: 1.102994451095535)\n",
      "2. Louis (distance: 1.0950927675183888)\n",
      "3. Salt (distance: 1.0922291363911278)\n",
      "4. Victoria (distance: 1.0908030197837015)\n",
      "5. Caroline (distance: 1.089518390431194)\n",
      "6. Henry (distance: 1.0879689991239236)\n",
      "7. Wedding (distance: 1.0842332038745603)\n",
      "8. Heights (distance: 1.0822048295768492)\n",
      "9. Season (distance: 1.0810272688124234)\n",
      "10. Length (distance: 1.0793260259074449)\n"
     ]
    }
   ],
   "source": [
    "model = analyze_word(\"computer\")"
   ]
  },
  {
   "cell_type": "code",
   "execution_count": 9,
   "id": "8fc4edd9",
   "metadata": {},
   "outputs": [
    {
     "name": "stdout",
     "output_type": "stream",
     "text": [
      "\n",
      "Analyzing word: 'woman'\n",
      "\n",
      "10 most similar words:\n",
      "1. man (similarity: 0.7658414840698242)\n",
      "2. lady (similarity: 0.7432236075401306)\n",
      "3. woman.The (similarity: 0.7007342576980591)\n",
      "4. woman.It (similarity: 0.6939473748207092)\n",
      "5. woman.A (similarity: 0.6926014423370361)\n",
      "6. girl (similarity: 0.6882616877555847)\n",
      "7. woman.If (similarity: 0.6846626400947571)\n",
      "8. woman--and (similarity: 0.6815258264541626)\n",
      "9. woman.She (similarity: 0.6798537373542786)\n",
      "10. woman.This (similarity: 0.6764208674430847)\n",
      "\n",
      "10 most opposite words:\n",
      "1. Links (distance: 1.1595318392004987)\n",
      "2. additions (distance: 1.138740179230674)\n",
      "3. Offers (distance: 1.1327834049817953)\n",
      "4. Notes (distance: 1.1133203080430172)\n",
      "5. Projects (distance: 1.1131441914931377)\n",
      "6. Activities (distance: 1.111562624990526)\n",
      "7. updates (distance: 1.1088127183014034)\n",
      "8. Sites (distance: 1.1076431735423027)\n",
      "9. Privacy (distance: 1.1059780395432781)\n",
      "10. modules (distance: 1.1048911030807542)\n"
     ]
    }
   ],
   "source": [
    "model = analyze_word(\"woman\")"
   ]
  },
  {
   "cell_type": "code",
   "execution_count": null,
   "id": "572ebede",
   "metadata": {},
   "outputs": [],
   "source": []
  }
 ],
 "metadata": {
  "kernelspec": {
   "display_name": "Python 3",
   "language": "python",
   "name": "python3"
  },
  "language_info": {
   "codemirror_mode": {
    "name": "ipython",
    "version": 3
   },
   "file_extension": ".py",
   "mimetype": "text/x-python",
   "name": "python",
   "nbconvert_exporter": "python",
   "pygments_lexer": "ipython3",
   "version": "3.11.8"
  }
 },
 "nbformat": 4,
 "nbformat_minor": 5
}
